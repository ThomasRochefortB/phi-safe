{
 "cells": [
  {
   "cell_type": "markdown",
   "metadata": {},
   "source": [
    "# Testing Local Llama3-8B Agent with LangChain for Molecule Generation and Neighbor Calculation\n",
    "\n",
    "This notebook aims to be a very simple implementation of Recursion's LOWE. It uses LangChain to empower an LLM agent to use a molecular generation tool and a neighborhood calculation tool.\n",
    "\n",
    "- The molecular generation tool uses the trained Phi-SAFE model.\n",
    "- The neighborhood calculator measures Tanimoto similarity from a public database of SMILES molecules  (https://www.kaggle.com/datasets/yanmaksi/big-molecules-smiles-dataset)\n",
    "\n",
    "The notebook tests two models as agents:\n",
    "\n",
    "1. Llama3-8B-Q4\n",
    "\n",
    "2. Cohere's Command-R\n",
    "\n",
    "Of course, Command-R is much more precise and accurate in it's tool usage.\n",
    "\n",
    "---\n"
   ]
  },
  {
   "cell_type": "markdown",
   "metadata": {},
   "source": [
    "## Llama3-8B"
   ]
  },
  {
   "cell_type": "code",
   "execution_count": 252,
   "metadata": {},
   "outputs": [],
   "source": [
    "from langchain_community.llms import LlamaCpp\n",
    "\n",
    "n_gpu_layers = -1  # Metal set to 1 is enough.\n",
    "n_batch = 512  # Should be between 1 and n_ctx, consider the amount of RAM of your Apple Silicon Chip.\n",
    "\n",
    "# Make sure the model path is correct for your system!\n",
    "llm = LlamaCpp(\n",
    "    model_path=\"./Llama-3-8B-Instruct-64k.Q4_K_M.gguf\",\n",
    "    n_gpu_layers=n_gpu_layers,\n",
    "    n_batch=n_batch,\n",
    "    n_ctx=2048,\n",
    "    max_tokens =128,\n",
    "    temperature =0.0,\n",
    "    f16_kv=True,  # MUST set to True, otherwise you will run into problem after a couple of calls\n",
    "    verbose=False,\n",
    "    stop=[\"<|eot_id|>\"]\n",
    ")"
   ]
  },
  {
   "cell_type": "code",
   "execution_count": 253,
   "metadata": {},
   "outputs": [],
   "source": [
    "from langchain_core.tools import tool\n",
    "from transformers import AutoModelForCausalLM\n",
    "import safe as sf\n",
    "from safe.tokenizer import SAFETokenizer\n",
    "import pandas as pd\n",
    "from rdkit import Chem\n",
    "from rdkit import DataStructs\n",
    "from rdkit.Chem import AllChem\n",
    "from langchain.tools.render import render_text_description\n",
    "from langchain_core.output_parsers import JsonOutputParser\n",
    "import os\n",
    "import json\n",
    "from operator import itemgetter\n",
    "from langchain_core.messages import AIMessage\n",
    "from langchain_core.runnables import (\n",
    "    Runnable,\n",
    ")\n",
    "os.environ[\"TOKENIZERS_PARALLELISM\"] = \"false\"\n",
    "\n",
    "@tool\n",
    "def molecular_generation(n_samples: int) -> list:\n",
    "    \"\"\"Generate n_samples molecules using the trained SAFE-Phi model.\"\"\"\n",
    "\n",
    "    checkpoint_path = \".saved_model/phi1_5-safmol_0528/checkpoint-29600\"\n",
    "    model = AutoModelForCausalLM.from_pretrained(checkpoint_path)\n",
    "    model.eval()\n",
    "    tokenizer = SAFETokenizer().load(checkpoint_path+\"/tokenizer.json\")\n",
    "\n",
    "    designer = sf.SAFEDesign(model=model, tokenizer=tokenizer)\n",
    "    generated_smiles = designer.de_novo_generation(sanitize=True, n_samples_per_trial=n_samples)\n",
    "\n",
    "    return generated_smiles\n",
    "\n",
    "@tool\n",
    "def retrieve_closest_neighbors(query_smiles: str, n: int) -> list:\n",
    "    \"\"\"Find the n closest neighbors to the query_smiles in the SMILES_Big_Data_Set.csv dataset.\"\"\"\n",
    "\n",
    "    # Read the CSV file\n",
    "    df = pd.read_csv(\"SMILES_Big_Data_Set.csv\")\n",
    "    \n",
    "    # Convert the query SMILES to a Morgan fingerprint\n",
    "    query_mol = Chem.MolFromSmiles(query_smiles)\n",
    "    query_fp = AllChem.GetMorganFingerprintAsBitVect(query_mol, 2, nBits=2048)\n",
    "    \n",
    "    # Calculate the similarity between the query and each SMILES in the dataset\n",
    "    similarities = []\n",
    "    for smiles in df['SMILES']:\n",
    "        try:\n",
    "            mol = Chem.MolFromSmiles(smiles)\n",
    "            fp = AllChem.GetMorganFingerprintAsBitVect(mol, 2, nBits=2048)\n",
    "            similarity = DataStructs.TanimotoSimilarity(query_fp, fp)\n",
    "            similarities.append(similarity)\n",
    "\n",
    "        except:\n",
    "            similarities.append(0.0)\n",
    "    \n",
    "    # Add the similarities as a new column in the DataFrame\n",
    "    df['Similarity'] = similarities\n",
    "    \n",
    "    # Sort the DataFrame by similarity in descending order\n",
    "    df_sorted = df.sort_values('Similarity', ascending=False)\n",
    "    \n",
    "    # Get the top N closest neighbors\n",
    "    closest_neighbors = df_sorted.head(n)['SMILES'].tolist()\n",
    "    \n",
    "    return closest_neighbors\n",
    "\n",
    "tools = [molecular_generation, retrieve_closest_neighbors]\n",
    "\n",
    "def is_valid_json(json_string):\n",
    "    try:\n",
    "        json.loads(json_string)\n",
    "        return True\n",
    "    except ValueError:\n",
    "        return False\n",
    "def tool_chain(model_output):\n",
    "    # Function to check if the output is a valid JSON string\n",
    "    def is_valid_json(json_string):\n",
    "        try:\n",
    "            json_object = json.loads(json_string)\n",
    "            return True, json_object\n",
    "        except ValueError:\n",
    "            return False, None\n",
    "\n",
    "    # Check if the model_output is a valid JSON string\n",
    "    is_json, parsed_output = is_valid_json(model_output)\n",
    "    \n",
    "    # If it is not a JSON string, return the original output\n",
    "    if not is_json:\n",
    "        return model_output\n",
    "    \n",
    "    # If it is a JSON string, proceed with the tool chain logic\n",
    "    tool_map = {tool.name: tool for tool in tools}\n",
    "    chosen_tool = tool_map[parsed_output[\"name\"]]\n",
    "    return JsonOutputParser() | itemgetter(\"arguments\") | chosen_tool\n",
    "\n",
    "rendered_tools = render_text_description(tools)"
   ]
  },
  {
   "cell_type": "code",
   "execution_count": 254,
   "metadata": {},
   "outputs": [],
   "source": [
    "from langchain_core.prompts import PromptTemplate\n",
    "\n",
    "prompt_template = PromptTemplate.from_template(\n",
    "\"\"\"\"<|begin_of_text|><|start_header_id|>system<|end_header_id|>\n",
    "\n",
    "{system_prompt}<|eot_id|><|start_header_id|>user<|end_header_id|>\n",
    "\n",
    "{prompt}<|eot_id|><|start_header_id|>assistant<|end_header_id|>\n",
    "\"\"\"\n",
    ")\n",
    "\n",
    "system_prompt = f\"\"\"You are an assistant that has access to the following set of tools. Here are the names and descriptions for each tool:\n",
    "\n",
    "{rendered_tools}\n",
    "\n",
    "Given the user question, return the name and input of the tool to use. If you decide to use a tool, return your response as a JSON blob with 'name' and 'arguments' keys. Nothing else, just the JSON.\n",
    "Here are a few examples of correct responses:\n",
    "\n",
    "Example 1:\n",
    "user: Generate 10 new molecules.\n",
    "assistant: {{ \"name\": \"molecular_generation\", \"arguments\": {{\"n_samples\": 10}} }}\n",
    "\n",
    "Example 2:\n",
    "user: Find the 5 closest neighbors to the SMILES molecule 'CCO':\n",
    "assistant: {{ \"name\": \"retrieve_closest_neighbors\", \"arguments\": {{ \"query_smiles\": \"CCO\", \"n\": 5 }} }}\n",
    "\n",
    "If you want to use a tool, RETURN ONLY THE JSON. DONT WRITE ANY NORMAL TEXT!!\n",
    "\"\"\""
   ]
  },
  {
   "cell_type": "code",
   "execution_count": 255,
   "metadata": {},
   "outputs": [
    {
     "name": "stderr",
     "output_type": "stream",
     "text": [
      "  0%|          | 0/1 [00:00<?, ?it/s]/home/thomas/anaconda3/envs/safemol/lib/python3.11/site-packages/transformers/generation/configuration_utils.py:563: UserWarning: `num_beams` is set to 1. However, `early_stopping` is set to `True` -- this flag is only used in beam-based generation modes. You should set `num_beams>1` or unset `early_stopping`.\n",
      "  warnings.warn(\n",
      "\u001b[32m2024-06-04 16:51:41.671\u001b[0m | \u001b[1mINFO    \u001b[0m | \u001b[36msafe.sample\u001b[0m:\u001b[36mde_novo_generation\u001b[0m:\u001b[36m577\u001b[0m - \u001b[1mAfter sanitization, 2 / 10 (20.00 %) generated molecules are valid !\u001b[0m\n"
     ]
    },
    {
     "name": "stdout",
     "output_type": "stream",
     "text": [
      "['C1COCCN1.CC(C)CN[CH]CCN=C(O)CNC(C)(C)C.CCC(C)C', 'CCCOc1ccccc1C(C)=O']\n"
     ]
    }
   ],
   "source": [
    "\n",
    "chain = prompt_template | llm | tool_chain\n",
    "molecules = chain.invoke({\"system_prompt\":system_prompt,\"prompt\": \"Generate 10 molecules\"})\n",
    "print(molecules)"
   ]
  },
  {
   "cell_type": "code",
   "execution_count": 257,
   "metadata": {},
   "outputs": [
    {
     "name": "stdout",
     "output_type": "stream",
     "text": [
      "['CC(=O)c1ccccc1OCC(=O)O', 'COc1ccccc1C(C)=O', 'CCCOC(=O)c1ccccc1C(=O)OCCC', 'CC(=O)c1ccccc1OC(=O)N(C)C', 'CCNC(=O)c1ccccc1OCC', 'CCOc1ccccc1C(=O)N(CC)CC', 'CCCC(=O)OCOc1ccccc1C(N)=O', 'CC(=O)OCOc1ccccc1C(N)=O', 'CCCOC(=O)c1ccccc1O', 'CCCOc1cc(N)ccc1C(=O)O']\n"
     ]
    }
   ],
   "source": [
    "neighbors = chain.invoke({\"system_prompt\":system_prompt,\"prompt\": \"Find the 10 closest neighbors of the SMILES molecule '{}' \".format(molecules[1])})\n",
    "print(neighbors)"
   ]
  },
  {
   "cell_type": "code",
   "execution_count": 258,
   "metadata": {},
   "outputs": [
    {
     "name": "stdout",
     "output_type": "stream",
     "text": [
      "Artificial Intelligence (AI) has revolutionized the field of drug discovery by providing new tools and techniques to accelerate the process.\n",
      "\n",
      "Here are some ways AI is being used in drug discovery:\n",
      "\n",
      "1. **Virtual screening**: AI algorithms can quickly scan large databases of potential compounds against a target protein or receptor, identifying those that bind with high affinity.\n",
      "2. **Structure prediction**: AI can predict the three-dimensional structure of proteins and other molecules from their amino acid sequence.\n",
      "3.assistant\n"
     ]
    }
   ],
   "source": [
    "random_chat = chain.invoke({\"system_prompt\":system_prompt,\"prompt\": \"What is AI for drug discovery?\"})\n",
    "print(random_chat)"
   ]
  },
  {
   "cell_type": "markdown",
   "metadata": {},
   "source": [
    "---\n",
    "\n",
    "## Cohere's Command-R"
   ]
  },
  {
   "cell_type": "code",
   "execution_count": 259,
   "metadata": {},
   "outputs": [],
   "source": [
    "os.environ[\"COHERE_API_KEY\"] = getpass.getpass()\n",
    "from langchain_cohere import ChatCohere\n",
    "\n",
    "llm = ChatCohere(model=\"command-r\")\n",
    "\n",
    "llm_with_tools = llm.bind_tools(tools)\n",
    "tool_map = {tool.name: tool for tool in tools}\n",
    "\n",
    "\n",
    "def call_tools(msg: AIMessage) -> Runnable:\n",
    "    \"\"\"Simple sequential tool calling helper.\"\"\"\n",
    "    tool_map = {tool.name: tool for tool in tools}\n",
    "    tool_calls = msg.tool_calls.copy()\n",
    "    for tool_call in tool_calls:\n",
    "        tool_call[\"output\"] = tool_map[tool_call[\"name\"]].invoke(tool_call[\"args\"])\n",
    "    return tool_calls\n",
    "\n",
    "\n",
    "chain = llm_with_tools | call_tools"
   ]
  },
  {
   "cell_type": "code",
   "execution_count": 260,
   "metadata": {},
   "outputs": [
    {
     "name": "stderr",
     "output_type": "stream",
     "text": [
      "  0%|          | 0/1 [00:00<?, ?it/s]/home/thomas/anaconda3/envs/safemol/lib/python3.11/site-packages/transformers/generation/configuration_utils.py:563: UserWarning: `num_beams` is set to 1. However, `early_stopping` is set to `True` -- this flag is only used in beam-based generation modes. You should set `num_beams>1` or unset `early_stopping`.\n",
      "  warnings.warn(\n",
      "\u001b[32m2024-06-04 16:53:27.481\u001b[0m | \u001b[1mINFO    \u001b[0m | \u001b[36msafe.sample\u001b[0m:\u001b[36mde_novo_generation\u001b[0m:\u001b[36m577\u001b[0m - \u001b[1mAfter sanitization, 3 / 10 (30.00 %) generated molecules are valid !\u001b[0m\n"
     ]
    },
    {
     "name": "stdout",
     "output_type": "stream",
     "text": [
      "['NC(=O)N1CCC(C2CCCCC2)CC1', 'CC=CC=C(C)C.Cc1nc(C)c(C)c(C(C)(C)NCC(C)C)n1', 'CC(=O)Oc1ccccc1Cc1ccccc1F.N#CCO']\n"
     ]
    }
   ],
   "source": [
    "molecules = chain.invoke(\"Generate 10 molecules\")\n",
    "print(molecules[0]['output'])"
   ]
  },
  {
   "cell_type": "code",
   "execution_count": 262,
   "metadata": {},
   "outputs": [
    {
     "name": "stdout",
     "output_type": "stream",
     "text": [
      "['O=C(CC1CCCCC1)N1CCCCC1', 'O=C(O)C1CCCCC1', 'NC(=S)N1CCCCC1', 'NNC(=O)NC1CCCCC1', 'O=C1CCC2CCCCC2C1', 'NC(=O)CN1CCCC1=O', 'C1CCC(C2CO2)CC1', 'NC1CCCCC1', 'OC1CCCCC1', 'C=CC(=O)OC1CCCCC1']\n"
     ]
    }
   ],
   "source": [
    "neighbors = chain.invoke(\"Find the 10 closest neighbors of the SMILES molecule '{}' \".format(molecules[0]['output'][0]))\n",
    "print(neighbors[0]['output'])"
   ]
  }
 ],
 "metadata": {
  "kernelspec": {
   "display_name": "safemol",
   "language": "python",
   "name": "python3"
  },
  "language_info": {
   "codemirror_mode": {
    "name": "ipython",
    "version": 3
   },
   "file_extension": ".py",
   "mimetype": "text/x-python",
   "name": "python",
   "nbconvert_exporter": "python",
   "pygments_lexer": "ipython3",
   "version": "3.11.9"
  }
 },
 "nbformat": 4,
 "nbformat_minor": 2
}
